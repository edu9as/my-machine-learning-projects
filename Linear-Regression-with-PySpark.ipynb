{
 "cells": [
  {
   "cell_type": "markdown",
   "metadata": {},
   "source": [
    "<h1>Predicting Crew Members with Linear Regression using PySpark</h1>\n",
    "\n",
    "In this notebook, I am creating a regression model that will help predict how many crew members will be needed for Hyundai Heavy Industries ships."
   ]
  },
  {
   "cell_type": "markdown",
   "metadata": {},
   "source": [
    "<h2>Step 1: Create a new Spark session</h2>"
   ]
  },
  {
   "cell_type": "code",
   "execution_count": 1,
   "metadata": {},
   "outputs": [],
   "source": [
    "from pyspark.sql import SparkSession\n",
    "spark = SparkSession.builder.appName(\"PredictingCrewMembers\").getOrCreate()"
   ]
  },
  {
   "cell_type": "markdown",
   "metadata": {},
   "source": [
    "<h2>Step 2: Load the data</h2>\n",
    "\n",
    "First I'm loading a csv with cruise ships information called <code>cruise_ship_info.csv</code>, which you can find online <a href=\"https://raw.githubusercontent.com/kushangbhatt/CrewMemberPrediction/master/cruise_ship_info.csv\">here</a>."
   ]
  },
  {
   "cell_type": "code",
   "execution_count": 2,
   "metadata": {},
   "outputs": [],
   "source": [
    "file = \"cruise_ship_info.csv\"\n",
    "df = spark.read.csv(file, header = True, inferSchema = True)"
   ]
  },
  {
   "cell_type": "code",
   "execution_count": 3,
   "metadata": {},
   "outputs": [
    {
     "name": "stdout",
     "output_type": "stream",
     "text": [
      "This dataset has 9 columns.\n",
      "\n",
      "The names of these columns are:\n",
      "  ['Ship_name', 'Cruise_line', 'Age', 'Tonnage', 'passengers', 'length', 'cabins', 'passenger_density', 'crew']\n"
     ]
    }
   ],
   "source": [
    "print(\"This dataset has {} columns.\\n\\nThe names of these columns are:\\n  {}\".format(len(df.columns), df.columns))"
   ]
  },
  {
   "cell_type": "markdown",
   "metadata": {},
   "source": [
    "## Exploring data\n",
    "\n",
    "Now, it is important to first examine the data we have. The first five rows in the dataset look like this:"
   ]
  },
  {
   "cell_type": "code",
   "execution_count": 4,
   "metadata": {},
   "outputs": [
    {
     "name": "stdout",
     "output_type": "stream",
     "text": [
      "+-----------+-----------+---+------------------+----------+------+------+-----------------+----+\n",
      "|  Ship_name|Cruise_line|Age|           Tonnage|passengers|length|cabins|passenger_density|crew|\n",
      "+-----------+-----------+---+------------------+----------+------+------+-----------------+----+\n",
      "|    Journey|    Azamara|  6|30.276999999999997|      6.94|  5.94|  3.55|            42.64|3.55|\n",
      "|      Quest|    Azamara|  6|30.276999999999997|      6.94|  5.94|  3.55|            42.64|3.55|\n",
      "|Celebration|   Carnival| 26|            47.262|     14.86|  7.22|  7.43|             31.8| 6.7|\n",
      "|   Conquest|   Carnival| 11|             110.0|     29.74|  9.53| 14.88|            36.99|19.1|\n",
      "|    Destiny|   Carnival| 17|           101.353|     26.42|  8.92| 13.21|            38.36|10.0|\n",
      "+-----------+-----------+---+------------------+----------+------+------+-----------------+----+\n",
      "only showing top 5 rows\n",
      "\n"
     ]
    }
   ],
   "source": [
    "df.show(5)"
   ]
  },
  {
   "cell_type": "markdown",
   "metadata": {},
   "source": [
    "Also, we can see the schema of the database in a tree format:"
   ]
  },
  {
   "cell_type": "code",
   "execution_count": 5,
   "metadata": {},
   "outputs": [
    {
     "name": "stdout",
     "output_type": "stream",
     "text": [
      "root\n",
      " |-- Ship_name: string (nullable = true)\n",
      " |-- Cruise_line: string (nullable = true)\n",
      " |-- Age: integer (nullable = true)\n",
      " |-- Tonnage: double (nullable = true)\n",
      " |-- passengers: double (nullable = true)\n",
      " |-- length: double (nullable = true)\n",
      " |-- cabins: double (nullable = true)\n",
      " |-- passenger_density: double (nullable = true)\n",
      " |-- crew: double (nullable = true)\n",
      "\n"
     ]
    }
   ],
   "source": [
    "df.printSchema()"
   ]
  },
  {
   "cell_type": "markdown",
   "metadata": {},
   "source": [
    "The target variable is **crew**, which is continuous. So are most of the features in this dataset. Only **Ship_name** and **Cruise_line** are categorical variables.\n",
    "\n",
    "Below, a summary of the database is shown in <em>Pandas</em> format. Here we can see mean, standard deviation, minimum and maximum values for each numerical column. Also, notice that there are 158 rows in this dataset."
   ]
  },
  {
   "cell_type": "code",
   "execution_count": 6,
   "metadata": {},
   "outputs": [
    {
     "data": {
      "text/html": [
       "<div>\n",
       "<style scoped>\n",
       "    .dataframe tbody tr th:only-of-type {\n",
       "        vertical-align: middle;\n",
       "    }\n",
       "\n",
       "    .dataframe tbody tr th {\n",
       "        vertical-align: top;\n",
       "    }\n",
       "\n",
       "    .dataframe thead th {\n",
       "        text-align: right;\n",
       "    }\n",
       "</style>\n",
       "<table border=\"1\" class=\"dataframe\">\n",
       "  <thead>\n",
       "    <tr style=\"text-align: right;\">\n",
       "      <th></th>\n",
       "      <th>summary</th>\n",
       "      <th>Ship_name</th>\n",
       "      <th>Cruise_line</th>\n",
       "      <th>Age</th>\n",
       "      <th>Tonnage</th>\n",
       "      <th>passengers</th>\n",
       "      <th>length</th>\n",
       "      <th>cabins</th>\n",
       "      <th>passenger_density</th>\n",
       "      <th>crew</th>\n",
       "    </tr>\n",
       "  </thead>\n",
       "  <tbody>\n",
       "    <tr>\n",
       "      <th>0</th>\n",
       "      <td>count</td>\n",
       "      <td>158</td>\n",
       "      <td>158</td>\n",
       "      <td>158</td>\n",
       "      <td>158</td>\n",
       "      <td>158</td>\n",
       "      <td>158</td>\n",
       "      <td>158</td>\n",
       "      <td>158</td>\n",
       "      <td>158</td>\n",
       "    </tr>\n",
       "    <tr>\n",
       "      <th>1</th>\n",
       "      <td>mean</td>\n",
       "      <td>Infinity</td>\n",
       "      <td>None</td>\n",
       "      <td>15.689873417721518</td>\n",
       "      <td>71.28467088607599</td>\n",
       "      <td>18.45740506329114</td>\n",
       "      <td>8.130632911392404</td>\n",
       "      <td>8.830000000000005</td>\n",
       "      <td>39.90094936708861</td>\n",
       "      <td>7.794177215189873</td>\n",
       "    </tr>\n",
       "    <tr>\n",
       "      <th>2</th>\n",
       "      <td>stddev</td>\n",
       "      <td>NaN</td>\n",
       "      <td>None</td>\n",
       "      <td>7.615691058751413</td>\n",
       "      <td>37.229540025907866</td>\n",
       "      <td>9.677094775143416</td>\n",
       "      <td>1.793473548054825</td>\n",
       "      <td>4.4714172221480615</td>\n",
       "      <td>8.63921711391542</td>\n",
       "      <td>3.503486564627034</td>\n",
       "    </tr>\n",
       "    <tr>\n",
       "      <th>3</th>\n",
       "      <td>min</td>\n",
       "      <td>Adventure</td>\n",
       "      <td>Azamara</td>\n",
       "      <td>4</td>\n",
       "      <td>2.329</td>\n",
       "      <td>0.66</td>\n",
       "      <td>2.79</td>\n",
       "      <td>0.33</td>\n",
       "      <td>17.7</td>\n",
       "      <td>0.59</td>\n",
       "    </tr>\n",
       "    <tr>\n",
       "      <th>4</th>\n",
       "      <td>max</td>\n",
       "      <td>Zuiderdam</td>\n",
       "      <td>Windstar</td>\n",
       "      <td>48</td>\n",
       "      <td>220.0</td>\n",
       "      <td>54.0</td>\n",
       "      <td>11.82</td>\n",
       "      <td>27.0</td>\n",
       "      <td>71.43</td>\n",
       "      <td>21.0</td>\n",
       "    </tr>\n",
       "  </tbody>\n",
       "</table>\n",
       "</div>"
      ],
      "text/plain": [
       "  summary  Ship_name Cruise_line                 Age             Tonnage  \\\n",
       "0   count        158         158                 158                 158   \n",
       "1    mean   Infinity        None  15.689873417721518   71.28467088607599   \n",
       "2  stddev        NaN        None   7.615691058751413  37.229540025907866   \n",
       "3     min  Adventure     Azamara                   4               2.329   \n",
       "4     max  Zuiderdam    Windstar                  48               220.0   \n",
       "\n",
       "          passengers             length              cabins  \\\n",
       "0                158                158                 158   \n",
       "1  18.45740506329114  8.130632911392404   8.830000000000005   \n",
       "2  9.677094775143416  1.793473548054825  4.4714172221480615   \n",
       "3               0.66               2.79                0.33   \n",
       "4               54.0              11.82                27.0   \n",
       "\n",
       "   passenger_density               crew  \n",
       "0                158                158  \n",
       "1  39.90094936708861  7.794177215189873  \n",
       "2   8.63921711391542  3.503486564627034  \n",
       "3               17.7               0.59  \n",
       "4              71.43               21.0  "
      ]
     },
     "execution_count": 6,
     "metadata": {},
     "output_type": "execute_result"
    }
   ],
   "source": [
    "df.describe().toPandas()"
   ]
  },
  {
   "cell_type": "markdown",
   "metadata": {},
   "source": [
    "It is time to explore how many unique values are there in both categorical variables:"
   ]
  },
  {
   "cell_type": "code",
   "execution_count": 7,
   "metadata": {},
   "outputs": [
    {
     "name": "stdout",
     "output_type": "stream",
     "text": [
      "There are 138 different values in Ship_name column.\n",
      "There are 20 different values in Cruise_line column.\n"
     ]
    }
   ],
   "source": [
    "for column in [\"Ship_name\", \"Cruise_line\"]:    \n",
    "    print(\"There are %s different values in %s column.\" % (df.select(column).distinct().count(), column))"
   ]
  },
  {
   "cell_type": "markdown",
   "metadata": {},
   "source": [
    "**Ship_name** has roughly as many distinct values as rows are there in the dataset. Then, I think this feature is not very informative for predicting crew members, so I decide not to include it in the linear regression model."
   ]
  },
  {
   "cell_type": "markdown",
   "metadata": {},
   "source": [
    "Next, I am converting the **Cruise_line** column to numerical labels for each string. I want to include this variable in the linear regression model."
   ]
  },
  {
   "cell_type": "code",
   "execution_count": 8,
   "metadata": {},
   "outputs": [
    {
     "name": "stdout",
     "output_type": "stream",
     "text": [
      "+-------+-----------------+\n",
      "|summary|          line_id|\n",
      "+-------+-----------------+\n",
      "|  count|              158|\n",
      "|   mean|5.063291139240507|\n",
      "| stddev|4.758744608182735|\n",
      "|    min|              0.0|\n",
      "|    max|             19.0|\n",
      "+-------+-----------------+\n",
      "\n"
     ]
    }
   ],
   "source": [
    "from pyspark.ml.feature import StringIndexer\n",
    "\n",
    "indexer = StringIndexer(inputCol=\"Cruise_line\", outputCol=\"line_id\")\n",
    "indexed = indexer.fit(df).transform(df)\n",
    "indexed.select(\"line_id\").describe().show()"
   ]
  },
  {
   "cell_type": "markdown",
   "metadata": {},
   "source": [
    "We see that the strings in **Cruise_line** have been transformed to numerical values between 0 and 19. Now, we can include this numerical variable in the linear regression model."
   ]
  },
  {
   "cell_type": "code",
   "execution_count": 9,
   "metadata": {},
   "outputs": [
    {
     "name": "stdout",
     "output_type": "stream",
     "text": [
      "[0, 1, 2, 3, 4, 5, 6, 7, 8, 9, 10, 11, 12, 13, 14, 15, 16, 17, 18, 19]\n"
     ]
    }
   ],
   "source": [
    "print([int(row.line_id) for row in indexed.select(\"line_id\").distinct().orderBy(\"line_id\").collect()])"
   ]
  },
  {
   "cell_type": "code",
   "execution_count": 10,
   "metadata": {},
   "outputs": [
    {
     "name": "stdout",
     "output_type": "stream",
     "text": [
      "Column number 0 is Ship_name\n",
      "Column number 1 is Cruise_line\n",
      "Column number 2 is Age\n",
      "Column number 3 is Tonnage\n",
      "Column number 4 is passengers\n",
      "Column number 5 is length\n",
      "Column number 6 is cabins\n",
      "Column number 7 is passenger_density\n",
      "Column number 8 is crew\n",
      "Column number 9 is line_id\n"
     ]
    }
   ],
   "source": [
    "for i in range(len(indexed.schema.names)):\n",
    "    print(\"Column number\", i, \"is\", indexed.schema.names[i])"
   ]
  },
  {
   "cell_type": "markdown",
   "metadata": {},
   "source": [
    "We want to include in the linear regression model as predictor variables all columns between 2 and 9 except column number 8, which is the target variable. Knowing this, the vector assembler with all features for the linear regression model is created in the next block of code."
   ]
  },
  {
   "cell_type": "code",
   "execution_count": 11,
   "metadata": {},
   "outputs": [
    {
     "name": "stdout",
     "output_type": "stream",
     "text": [
      "+--------------------+\n",
      "|            features|\n",
      "+--------------------+\n",
      "|[16.0,6.0,30.2769...|\n",
      "|[16.0,6.0,30.2769...|\n",
      "|[1.0,26.0,47.262,...|\n",
      "|[1.0,11.0,110.0,2...|\n",
      "|[1.0,17.0,101.353...|\n",
      "+--------------------+\n",
      "only showing top 5 rows\n",
      "\n"
     ]
    }
   ],
   "source": [
    "from pyspark.ml.feature import VectorAssembler\n",
    "\n",
    "assembler = VectorAssembler(inputCols = [indexed.schema.names[i] for i in [9] + list(range(2,8))],\n",
    "                            outputCol = \"features\")\n",
    "output = assembler.transform(indexed)\n",
    "output.select(\"features\").show(5)"
   ]
  },
  {
   "cell_type": "markdown",
   "metadata": {},
   "source": [
    "Features vector has been correctly generated. Next, I am fitting a linear regression model that considers these seven features."
   ]
  },
  {
   "cell_type": "code",
   "execution_count": 12,
   "metadata": {},
   "outputs": [],
   "source": [
    "from pyspark.ml.regression import LinearRegression\n",
    "\n",
    "# Splitting of final_data in train (70%) and test (30%) sets. Random seed is\n",
    "#   set to today's date, 2020-12-21\n",
    "\n",
    "train_data, test_data = output.randomSplit([0.7, 0.3], seed = 20201221)\n",
    "\n",
    "\n",
    "# Fitting linear regression model with train_data\n",
    "\n",
    "lr = LinearRegression(labelCol=\"crew\")\n",
    "lr_model = lr.fit(train_data)"
   ]
  },
  {
   "cell_type": "markdown",
   "metadata": {},
   "source": [
    "How well does this model predicts crew members? I am evaluating its performance in terms of RMSE and R²:"
   ]
  },
  {
   "cell_type": "code",
   "execution_count": 13,
   "metadata": {},
   "outputs": [
    {
     "name": "stdout",
     "output_type": "stream",
     "text": [
      "RMSE of model = 0.8104566925385541\n",
      "R-squared of model = 0.9004064252541517\n"
     ]
    }
   ],
   "source": [
    "# Evaluating linear regression model with test_data\n",
    "test_results = lr_model.evaluate(test_data)\n",
    "\n",
    "\n",
    "# Outputting R-squared of this model\n",
    "print(\"RMSE of model =\", test_results.rootMeanSquaredError)\n",
    "print(\"R-squared of model =\", test_results.r2)"
   ]
  },
  {
   "cell_type": "markdown",
   "metadata": {},
   "source": [
    "R² is very close to 1 and RMSE is quite low, so this model seems adequate to make predictions about the number of crew members given some features.\n",
    "\n",
    "However, what would had happened if I hadn't included **Cruise_line** as a numerical variable (**line_id**) in the model? Let's see:"
   ]
  },
  {
   "cell_type": "code",
   "execution_count": 14,
   "metadata": {},
   "outputs": [
    {
     "name": "stdout",
     "output_type": "stream",
     "text": [
      "RMSE of model = 0.8508139693858561\n",
      "R-squared of model = 0.8902408035381612\n"
     ]
    }
   ],
   "source": [
    "assembler2 = VectorAssembler(inputCols = [df.columns[i] for i in range(2,8)], outputCol = \"features\")\n",
    "\n",
    "output2 = assembler2.transform(df)\n",
    "\n",
    "# Splitting of final_data in train (70%) and test (30%) sets. Random seed is\n",
    "#   set to today's date, 2020-11-04\n",
    "\n",
    "train_data2, test_data2 = output2.randomSplit([0.7, 0.3], seed = 20201221)\n",
    "\n",
    "\n",
    "# Fitting linear regression model with train_data\n",
    "\n",
    "lr_model2 = lr.fit(train_data2)\n",
    "\n",
    "\n",
    "# Evaluating linear regression model with test_data\n",
    "test_results2 = lr_model2.evaluate(test_data2)\n",
    "\n",
    "\n",
    "# Outputting R-squared of this model\n",
    "print(\"RMSE of model =\", test_results2.rootMeanSquaredError)\n",
    "print(\"R-squared of model =\", test_results2.r2)"
   ]
  },
  {
   "cell_type": "markdown",
   "metadata": {},
   "source": [
    "We can see that both models perform very well, in terms of RMSE and R². Then, we might think that **Cruise_line** is not a very informative predictor variable.\n",
    "\n",
    "This is just a very simple example, but linear regression can be applied to a lot of more complex and interesting tasks using Spark. I hope you have enjoyed this notebook, see you soon!"
   ]
  }
 ],
 "metadata": {
  "kernelspec": {
   "display_name": "Python 3",
   "language": "python",
   "name": "python3"
  },
  "language_info": {
   "codemirror_mode": {
    "name": "ipython",
    "version": 3
   },
   "file_extension": ".py",
   "mimetype": "text/x-python",
   "name": "python",
   "nbconvert_exporter": "python",
   "pygments_lexer": "ipython3",
   "version": "3.8.5"
  }
 },
 "nbformat": 4,
 "nbformat_minor": 4
}
